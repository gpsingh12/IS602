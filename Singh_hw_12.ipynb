{
 "cells": [
  {
   "cell_type": "markdown",
   "metadata": {},
   "source": [
    "### Homework 12"
   ]
  },
  {
   "cell_type": "markdown",
   "metadata": {},
   "source": [
    "Applying  timeit to results from Homework 11"
   ]
  },
  {
   "cell_type": "code",
   "execution_count": 3,
   "metadata": {
    "collapsed": false
   },
   "outputs": [],
   "source": [
    "import csv\n",
    "import pandas as pd\n",
    "import numpy as np\n",
    "import sys\n",
    "sys.path.append('C:\\\\Python27\\\\lib\\\\site-packages')\n"
   ]
  },
  {
   "cell_type": "code",
   "execution_count": 17,
   "metadata": {
    "collapsed": false
   },
   "outputs": [],
   "source": [
    "df = pd.read_csv('C:\\\\Users\\\\Gurpreet\\\\Documents\\\\IS602\\\\apple.csv')  \n",
    "df.columns = ['Date', 'Price','PercentChange']\n",
    "df.head()\n",
    "\n",
    "df = df[df.PercentChange != 'XXXXX']\n",
    "df['PercentChange'] = df['PercentChange'].astype(float)\n",
    "mean = df['PercentChange'].mean()\n",
    "sd = df['PercentChange'].std()\n",
    "\n",
    "\n"
   ]
  },
  {
   "cell_type": "code",
   "execution_count": 5,
   "metadata": {
    "collapsed": false
   },
   "outputs": [
    {
     "name": "stdout",
     "output_type": "stream",
     "text": [
      "1 loop, best of 3: 263 ms per loop\n"
     ]
    }
   ],
   "source": [
    "%%timeit \n",
    "final_price=[]\n",
    "for i in range(0,10000):\n",
    "    last_price = df['Price'].iloc[-1] \n",
    "    start_price = last_price\n",
    "    gen = np.random.normal(mean,sd,20)\n",
    "    for j in range(0,20):\n",
    "        start_price=start_price+ start_price*gen[j]\n",
    "    final_price.append(start_price)\n",
    "\n",
    "final_price.sort()\n",
    "\n",
    "np.percentile(final_price,1) #VaR with 99% confidence  "
   ]
  },
  {
   "cell_type": "markdown",
   "metadata": {},
   "source": [
    "#### Parallel Computing to the results from Homework 11"
   ]
  },
  {
   "cell_type": "code",
   "execution_count": 21,
   "metadata": {
    "collapsed": false
   },
   "outputs": [
    {
     "name": "stdout",
     "output_type": "stream",
     "text": [
      "[0, 1, 2, 3]\n"
     ]
    },
    {
     "name": "stderr",
     "output_type": "stream",
     "text": [
      "C:\\Users\\Gurpreet\\Anaconda3\\lib\\site-packages\\ipyparallel\\client\\client.py:442: RuntimeWarning: \n",
      "            Controller appears to be listening on localhost, but not on this machine.\n",
      "            If this is true, you should specify Client(...,sshserver='you@169.254.36.20')\n",
      "            or instruct your controller to listen on an external IP.\n",
      "  RuntimeWarning)\n"
     ]
    }
   ],
   "source": [
    "import ipyparallel\n",
    "from ipyparallel import Client\n",
    "clients = ipyparallel.Client()\n",
    "clients.block=True\n",
    "\n",
    "print (clients.ids)\n",
    "dview = clients.direct_view()\n"
   ]
  },
  {
   "cell_type": "code",
   "execution_count": 33,
   "metadata": {
    "collapsed": false
   },
   "outputs": [
    {
     "name": "stderr",
     "output_type": "stream",
     "text": [
      "C:\\Users\\Gurpreet\\Anaconda3\\lib\\site-packages\\ipyparallel\\client\\client.py:442: RuntimeWarning: \n",
      "            Controller appears to be listening on localhost, but not on this machine.\n",
      "            If this is true, you should specify Client(...,sshserver='you@169.254.36.20')\n",
      "            or instruct your controller to listen on an external IP.\n",
      "  RuntimeWarning)\n"
     ]
    },
    {
     "name": "stdout",
     "output_type": "stream",
     "text": [
      "10000000 loops, best of 3: 23.8 ns per loop\n"
     ]
    },
    {
     "data": {
      "text/plain": [
       "346.87905014645571"
      ]
     },
     "execution_count": 33,
     "metadata": {},
     "output_type": "execute_result"
    }
   ],
   "source": [
    "\n",
    "%px\n",
    "import csv\n",
    "import pandas as pd\n",
    "import numpy as np\n",
    "\n",
    "df = pd.read_csv('C:\\\\Users\\\\Gurpreet\\\\Documents\\\\IS602\\\\apple.csv')  \n",
    "df.columns = ['Date', 'Price','PercentChange']\n",
    "df.head()\n",
    "\n",
    "df = df[df.PercentChange != 'XXXXX']\n",
    "df['PercentChange'] = df['PercentChange'].astype(float)\n",
    "mean = df['PercentChange'].mean()\n",
    "sd = df['PercentChange'].std()\n",
    "\n",
    "\n",
    "%px\n",
    "\n",
    "clients = ipyparallel.Client()\n",
    "dview = clients.direct_view()\n",
    "\n",
    "%timeit final_price\n",
    "final_price=[]\n",
    "\n",
    "for i in range(0,10000):\n",
    "    last_price = df['Price'].iloc[-1] \n",
    "    start_price = last_price\n",
    "    gen = np.random.normal(mean,sd,20)\n",
    "    for j in range(0,20):\n",
    "        start_price=start_price+ start_price*gen[j]\n",
    "    final_price.append(start_price)\n",
    "\n",
    "final_price.sort()\n",
    "\n",
    "np.percentile(final_price,1)\n",
    "\n",
    "\n"
   ]
  },
  {
   "cell_type": "markdown",
   "metadata": {},
   "source": [
    "#### The speed using parallel computing is improved a lot about 1000000 times than the regular approach"
   ]
  }
 ],
 "metadata": {
  "anaconda-cloud": {},
  "kernelspec": {
   "display_name": "Python [Root]",
   "language": "python",
   "name": "Python [Root]"
  },
  "language_info": {
   "codemirror_mode": {
    "name": "ipython",
    "version": 3
   },
   "file_extension": ".py",
   "mimetype": "text/x-python",
   "name": "python",
   "nbconvert_exporter": "python",
   "pygments_lexer": "ipython3",
   "version": "3.5.2"
  }
 },
 "nbformat": 4,
 "nbformat_minor": 0
}
